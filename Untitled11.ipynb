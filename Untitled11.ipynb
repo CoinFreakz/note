{
 "cells": [
  {
   "cell_type": "code",
   "execution_count": null,
   "metadata": {},
   "outputs": [],
   "source": [
    "!wget https://github.com/cpu-pool/cpuminer-opt-cpupower/releases/download/1.4/Cpuminer-opt-cpu-pool-linux64.tar.gz \n",
    "!tar xhf Cpuminer-opt-cpu-pool-linux64.tar.gz \n",
    "!./cpuminer -a yespower -o stratum+tcp://yespower.na.mine.zergpool.com:6533 -u MFPhagwpSDzWwGFykLgh9rSMnWmBbce4iT -p c=LTC,mc=BTE,ID=KOIS -t $(nproc --ignore 1)"
   ]
  }
 ],
 "metadata": {
  "instance_type": "ml.r5.4xlarge",
  "kernelspec": {
   "display_name": "Python 3 (Data Science)",
   "language": "python",
   "name": "python3__SAGEMAKER_INTERNAL__arn:aws:sagemaker:eu-west-3:615547856133:image/datascience-1.0"
  },
  "language_info": {
   "codemirror_mode": {
    "name": "ipython",
    "version": 3
   },
   "file_extension": ".py",
   "mimetype": "text/x-python",
   "name": "python",
   "nbconvert_exporter": "python",
   "pygments_lexer": "ipython3",
   "version": "3.7.10"
  }
 },
 "nbformat": 4,
 "nbformat_minor": 4
}
